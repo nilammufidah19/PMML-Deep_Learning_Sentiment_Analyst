{
  "cells": [
    {
      "cell_type": "code",
      "execution_count": null,
      "metadata": {
        "id": "PRMXPsxdAZn4"
      },
      "outputs": [],
      "source": [
        "# !pip install fasttext"
      ]
    },
    {
      "cell_type": "code",
      "execution_count": null,
      "metadata": {
        "id": "80pGuEHtYvwH"
      },
      "outputs": [],
      "source": [
        "# !pip install gensim"
      ]
    },
    {
      "cell_type": "code",
      "source": [
        "!pip install sastrawi"
      ],
      "metadata": {
        "colab": {
          "base_uri": "https://localhost:8080/"
        },
        "id": "5Yam5VEy4bNb",
        "outputId": "6f076a12-6443-4e47-b84c-1c8edc7af214"
      },
      "execution_count": null,
      "outputs": [
        {
          "output_type": "stream",
          "name": "stdout",
          "text": [
            "Requirement already satisfied: sastrawi in /usr/local/lib/python3.12/dist-packages (1.0.1)\n"
          ]
        }
      ]
    },
    {
      "cell_type": "code",
      "execution_count": null,
      "metadata": {
        "id": "YuvPqh6678sS"
      },
      "outputs": [],
      "source": [
        "from datasets import load_dataset\n",
        "import re, time, torch, torch.nn as nn\n",
        "import pandas as pd\n",
        "import string\n",
        "import nltk\n",
        "from nltk.tokenize import word_tokenize\n",
        "import torch\n",
        "from torch.utils.data import DataLoader, TensorDataset, Dataset\n",
        "from transformers import AutoTokenizer, AutoModel, BertTokenizer, BertModel\n",
        "from sklearn.metrics import classification_report, confusion_matrix, ConfusionMatrixDisplay, accuracy_score, f1_score, recall_score, precision_score\n",
        "import matplotlib.pyplot as plt\n",
        "import torch.optim as optim\n",
        "import numpy as np\n",
        "from collections import Counter\n",
        "from sklearn.preprocessing import LabelEncoder\n",
        "from sentence_transformers import SentenceTransformer\n",
        "from sklearn.svm import SVC\n",
        "import seaborn as sns"
      ]
    },
    {
      "cell_type": "code",
      "source": [
        "#prerocessing\n",
        "from collections import OrderedDict\n",
        "\n",
        "from Sastrawi.Stemmer.StemmerFactory import StemmerFactory\n",
        "from datetime import datetime\n",
        "\n",
        "import nltk\n",
        "nltk.download('stopwords')\n",
        "from nltk.corpus import stopwords\n",
        "from Sastrawi.StopWordRemover.StopWordRemoverFactory import StopWordRemoverFactory"
      ],
      "metadata": {
        "colab": {
          "base_uri": "https://localhost:8080/"
        },
        "id": "BTZR1opH4h1z",
        "outputId": "18fddb19-0c99-4b7c-d2df-30b99b8a2416"
      },
      "execution_count": null,
      "outputs": [
        {
          "output_type": "stream",
          "name": "stderr",
          "text": [
            "[nltk_data] Downloading package stopwords to /root/nltk_data...\n",
            "[nltk_data]   Package stopwords is already up-to-date!\n"
          ]
        }
      ]
    },
    {
      "cell_type": "markdown",
      "metadata": {
        "id": "xCZj1-ao_Zqg"
      },
      "source": [
        "# Load Data"
      ]
    },
    {
      "cell_type": "code",
      "execution_count": null,
      "metadata": {
        "id": "fGpNob-57994",
        "colab": {
          "base_uri": "https://localhost:8080/"
        },
        "outputId": "bee2deef-26b3-41b6-dd73-2d551609a75c"
      },
      "outputs": [
        {
          "output_type": "stream",
          "name": "stdout",
          "text": [
            "Drive already mounted at /content/drive; to attempt to forcibly remount, call drive.mount(\"/content/drive\", force_remount=True).\n"
          ]
        }
      ],
      "source": [
        "from google.colab import drive\n",
        "drive.mount('/content/drive')"
      ]
    },
    {
      "cell_type": "code",
      "execution_count": null,
      "metadata": {
        "id": "KuakpeBl6OJv"
      },
      "outputs": [],
      "source": [
        "#Nilam\n",
        "path = \"/content/drive/MyDrive/MKA/semester 2/PMML/Before UTS/Tugas Kelompok PMML/Backup-data/\""
      ]
    },
    {
      "cell_type": "code",
      "source": [
        "#atika\n",
        "path = \"/content/drive/MyDrive/coba/\""
      ],
      "metadata": {
        "id": "NLrcbZ0E7b7E"
      },
      "execution_count": null,
      "outputs": []
    },
    {
      "cell_type": "code",
      "execution_count": null,
      "metadata": {
        "id": "bAroUbkgMdRb"
      },
      "outputs": [],
      "source": [
        "data_full = pd.read_excel(path + \"Komentar Tiktok IKN Data.xlsx\")"
      ]
    },
    {
      "cell_type": "code",
      "execution_count": null,
      "metadata": {
        "id": "KLYNb5053saZ",
        "colab": {
          "base_uri": "https://localhost:8080/",
          "height": 206
        },
        "outputId": "e55b6f7d-9415-4771-8566-ca14c7dafd7d"
      },
      "outputs": [
        {
          "output_type": "execute_result",
          "data": {
            "text/plain": [
              "                                                text    label\n",
              "0                    ikn ibukota koruptor nepotisme   negatif\n",
              "1  sy mau tanya ikn itu untuk apa trs yg menempat...  negatif\n",
              "2  bapak skolahin anak nya yg setinggi nnti bsa n...  negatif\n",
              "3  wacana belim ada kesitu realnya dan faktanya a...  negatif\n",
              "4  follow ig ikn pak udh dr lama kq buka lowongan...  negatif"
            ],
            "text/html": [
              "\n",
              "  <div id=\"df-7bde8a99-7f93-466e-93df-42ce06988d7e\" class=\"colab-df-container\">\n",
              "    <div>\n",
              "<style scoped>\n",
              "    .dataframe tbody tr th:only-of-type {\n",
              "        vertical-align: middle;\n",
              "    }\n",
              "\n",
              "    .dataframe tbody tr th {\n",
              "        vertical-align: top;\n",
              "    }\n",
              "\n",
              "    .dataframe thead th {\n",
              "        text-align: right;\n",
              "    }\n",
              "</style>\n",
              "<table border=\"1\" class=\"dataframe\">\n",
              "  <thead>\n",
              "    <tr style=\"text-align: right;\">\n",
              "      <th></th>\n",
              "      <th>text</th>\n",
              "      <th>label</th>\n",
              "    </tr>\n",
              "  </thead>\n",
              "  <tbody>\n",
              "    <tr>\n",
              "      <th>0</th>\n",
              "      <td>ikn ibukota koruptor nepotisme</td>\n",
              "      <td>negatif</td>\n",
              "    </tr>\n",
              "    <tr>\n",
              "      <th>1</th>\n",
              "      <td>sy mau tanya ikn itu untuk apa trs yg menempat...</td>\n",
              "      <td>negatif</td>\n",
              "    </tr>\n",
              "    <tr>\n",
              "      <th>2</th>\n",
              "      <td>bapak skolahin anak nya yg setinggi nnti bsa n...</td>\n",
              "      <td>negatif</td>\n",
              "    </tr>\n",
              "    <tr>\n",
              "      <th>3</th>\n",
              "      <td>wacana belim ada kesitu realnya dan faktanya a...</td>\n",
              "      <td>negatif</td>\n",
              "    </tr>\n",
              "    <tr>\n",
              "      <th>4</th>\n",
              "      <td>follow ig ikn pak udh dr lama kq buka lowongan...</td>\n",
              "      <td>negatif</td>\n",
              "    </tr>\n",
              "  </tbody>\n",
              "</table>\n",
              "</div>\n",
              "    <div class=\"colab-df-buttons\">\n",
              "\n",
              "  <div class=\"colab-df-container\">\n",
              "    <button class=\"colab-df-convert\" onclick=\"convertToInteractive('df-7bde8a99-7f93-466e-93df-42ce06988d7e')\"\n",
              "            title=\"Convert this dataframe to an interactive table.\"\n",
              "            style=\"display:none;\">\n",
              "\n",
              "  <svg xmlns=\"http://www.w3.org/2000/svg\" height=\"24px\" viewBox=\"0 -960 960 960\">\n",
              "    <path d=\"M120-120v-720h720v720H120Zm60-500h600v-160H180v160Zm220 220h160v-160H400v160Zm0 220h160v-160H400v160ZM180-400h160v-160H180v160Zm440 0h160v-160H620v160ZM180-180h160v-160H180v160Zm440 0h160v-160H620v160Z\"/>\n",
              "  </svg>\n",
              "    </button>\n",
              "\n",
              "  <style>\n",
              "    .colab-df-container {\n",
              "      display:flex;\n",
              "      gap: 12px;\n",
              "    }\n",
              "\n",
              "    .colab-df-convert {\n",
              "      background-color: #E8F0FE;\n",
              "      border: none;\n",
              "      border-radius: 50%;\n",
              "      cursor: pointer;\n",
              "      display: none;\n",
              "      fill: #1967D2;\n",
              "      height: 32px;\n",
              "      padding: 0 0 0 0;\n",
              "      width: 32px;\n",
              "    }\n",
              "\n",
              "    .colab-df-convert:hover {\n",
              "      background-color: #E2EBFA;\n",
              "      box-shadow: 0px 1px 2px rgba(60, 64, 67, 0.3), 0px 1px 3px 1px rgba(60, 64, 67, 0.15);\n",
              "      fill: #174EA6;\n",
              "    }\n",
              "\n",
              "    .colab-df-buttons div {\n",
              "      margin-bottom: 4px;\n",
              "    }\n",
              "\n",
              "    [theme=dark] .colab-df-convert {\n",
              "      background-color: #3B4455;\n",
              "      fill: #D2E3FC;\n",
              "    }\n",
              "\n",
              "    [theme=dark] .colab-df-convert:hover {\n",
              "      background-color: #434B5C;\n",
              "      box-shadow: 0px 1px 3px 1px rgba(0, 0, 0, 0.15);\n",
              "      filter: drop-shadow(0px 1px 2px rgba(0, 0, 0, 0.3));\n",
              "      fill: #FFFFFF;\n",
              "    }\n",
              "  </style>\n",
              "\n",
              "    <script>\n",
              "      const buttonEl =\n",
              "        document.querySelector('#df-7bde8a99-7f93-466e-93df-42ce06988d7e button.colab-df-convert');\n",
              "      buttonEl.style.display =\n",
              "        google.colab.kernel.accessAllowed ? 'block' : 'none';\n",
              "\n",
              "      async function convertToInteractive(key) {\n",
              "        const element = document.querySelector('#df-7bde8a99-7f93-466e-93df-42ce06988d7e');\n",
              "        const dataTable =\n",
              "          await google.colab.kernel.invokeFunction('convertToInteractive',\n",
              "                                                    [key], {});\n",
              "        if (!dataTable) return;\n",
              "\n",
              "        const docLinkHtml = 'Like what you see? Visit the ' +\n",
              "          '<a target=\"_blank\" href=https://colab.research.google.com/notebooks/data_table.ipynb>data table notebook</a>'\n",
              "          + ' to learn more about interactive tables.';\n",
              "        element.innerHTML = '';\n",
              "        dataTable['output_type'] = 'display_data';\n",
              "        await google.colab.output.renderOutput(dataTable, element);\n",
              "        const docLink = document.createElement('div');\n",
              "        docLink.innerHTML = docLinkHtml;\n",
              "        element.appendChild(docLink);\n",
              "      }\n",
              "    </script>\n",
              "  </div>\n",
              "\n",
              "\n",
              "    <div id=\"df-bcc2ad07-b273-49cc-bf56-9958162176a4\">\n",
              "      <button class=\"colab-df-quickchart\" onclick=\"quickchart('df-bcc2ad07-b273-49cc-bf56-9958162176a4')\"\n",
              "                title=\"Suggest charts\"\n",
              "                style=\"display:none;\">\n",
              "\n",
              "<svg xmlns=\"http://www.w3.org/2000/svg\" height=\"24px\"viewBox=\"0 0 24 24\"\n",
              "     width=\"24px\">\n",
              "    <g>\n",
              "        <path d=\"M19 3H5c-1.1 0-2 .9-2 2v14c0 1.1.9 2 2 2h14c1.1 0 2-.9 2-2V5c0-1.1-.9-2-2-2zM9 17H7v-7h2v7zm4 0h-2V7h2v10zm4 0h-2v-4h2v4z\"/>\n",
              "    </g>\n",
              "</svg>\n",
              "      </button>\n",
              "\n",
              "<style>\n",
              "  .colab-df-quickchart {\n",
              "      --bg-color: #E8F0FE;\n",
              "      --fill-color: #1967D2;\n",
              "      --hover-bg-color: #E2EBFA;\n",
              "      --hover-fill-color: #174EA6;\n",
              "      --disabled-fill-color: #AAA;\n",
              "      --disabled-bg-color: #DDD;\n",
              "  }\n",
              "\n",
              "  [theme=dark] .colab-df-quickchart {\n",
              "      --bg-color: #3B4455;\n",
              "      --fill-color: #D2E3FC;\n",
              "      --hover-bg-color: #434B5C;\n",
              "      --hover-fill-color: #FFFFFF;\n",
              "      --disabled-bg-color: #3B4455;\n",
              "      --disabled-fill-color: #666;\n",
              "  }\n",
              "\n",
              "  .colab-df-quickchart {\n",
              "    background-color: var(--bg-color);\n",
              "    border: none;\n",
              "    border-radius: 50%;\n",
              "    cursor: pointer;\n",
              "    display: none;\n",
              "    fill: var(--fill-color);\n",
              "    height: 32px;\n",
              "    padding: 0;\n",
              "    width: 32px;\n",
              "  }\n",
              "\n",
              "  .colab-df-quickchart:hover {\n",
              "    background-color: var(--hover-bg-color);\n",
              "    box-shadow: 0 1px 2px rgba(60, 64, 67, 0.3), 0 1px 3px 1px rgba(60, 64, 67, 0.15);\n",
              "    fill: var(--button-hover-fill-color);\n",
              "  }\n",
              "\n",
              "  .colab-df-quickchart-complete:disabled,\n",
              "  .colab-df-quickchart-complete:disabled:hover {\n",
              "    background-color: var(--disabled-bg-color);\n",
              "    fill: var(--disabled-fill-color);\n",
              "    box-shadow: none;\n",
              "  }\n",
              "\n",
              "  .colab-df-spinner {\n",
              "    border: 2px solid var(--fill-color);\n",
              "    border-color: transparent;\n",
              "    border-bottom-color: var(--fill-color);\n",
              "    animation:\n",
              "      spin 1s steps(1) infinite;\n",
              "  }\n",
              "\n",
              "  @keyframes spin {\n",
              "    0% {\n",
              "      border-color: transparent;\n",
              "      border-bottom-color: var(--fill-color);\n",
              "      border-left-color: var(--fill-color);\n",
              "    }\n",
              "    20% {\n",
              "      border-color: transparent;\n",
              "      border-left-color: var(--fill-color);\n",
              "      border-top-color: var(--fill-color);\n",
              "    }\n",
              "    30% {\n",
              "      border-color: transparent;\n",
              "      border-left-color: var(--fill-color);\n",
              "      border-top-color: var(--fill-color);\n",
              "      border-right-color: var(--fill-color);\n",
              "    }\n",
              "    40% {\n",
              "      border-color: transparent;\n",
              "      border-right-color: var(--fill-color);\n",
              "      border-top-color: var(--fill-color);\n",
              "    }\n",
              "    60% {\n",
              "      border-color: transparent;\n",
              "      border-right-color: var(--fill-color);\n",
              "    }\n",
              "    80% {\n",
              "      border-color: transparent;\n",
              "      border-right-color: var(--fill-color);\n",
              "      border-bottom-color: var(--fill-color);\n",
              "    }\n",
              "    90% {\n",
              "      border-color: transparent;\n",
              "      border-bottom-color: var(--fill-color);\n",
              "    }\n",
              "  }\n",
              "</style>\n",
              "\n",
              "      <script>\n",
              "        async function quickchart(key) {\n",
              "          const quickchartButtonEl =\n",
              "            document.querySelector('#' + key + ' button');\n",
              "          quickchartButtonEl.disabled = true;  // To prevent multiple clicks.\n",
              "          quickchartButtonEl.classList.add('colab-df-spinner');\n",
              "          try {\n",
              "            const charts = await google.colab.kernel.invokeFunction(\n",
              "                'suggestCharts', [key], {});\n",
              "          } catch (error) {\n",
              "            console.error('Error during call to suggestCharts:', error);\n",
              "          }\n",
              "          quickchartButtonEl.classList.remove('colab-df-spinner');\n",
              "          quickchartButtonEl.classList.add('colab-df-quickchart-complete');\n",
              "        }\n",
              "        (() => {\n",
              "          let quickchartButtonEl =\n",
              "            document.querySelector('#df-bcc2ad07-b273-49cc-bf56-9958162176a4 button');\n",
              "          quickchartButtonEl.style.display =\n",
              "            google.colab.kernel.accessAllowed ? 'block' : 'none';\n",
              "        })();\n",
              "      </script>\n",
              "    </div>\n",
              "\n",
              "    </div>\n",
              "  </div>\n"
            ],
            "application/vnd.google.colaboratory.intrinsic+json": {
              "type": "dataframe",
              "variable_name": "data_full",
              "summary": "{\n  \"name\": \"data_full\",\n  \"rows\": 1472,\n  \"fields\": [\n    {\n      \"column\": \"text\",\n      \"properties\": {\n        \"dtype\": \"string\",\n        \"num_unique_values\": 1471,\n        \"samples\": [\n          \"ikn\",\n          \"nabi muhamad saw wafat pada usia tahun pada hari senin rabiul awal hijrah atau bertepatan juni masehi\",\n          \"gw pilih prabowo dan gibran\"\n        ],\n        \"semantic_type\": \"\",\n        \"description\": \"\"\n      }\n    },\n    {\n      \"column\": \"label\",\n      \"properties\": {\n        \"dtype\": \"category\",\n        \"num_unique_values\": 2,\n        \"samples\": [\n          \"positif\",\n          \"negatif\"\n        ],\n        \"semantic_type\": \"\",\n        \"description\": \"\"\n      }\n    }\n  ]\n}"
            }
          },
          "metadata": {},
          "execution_count": 10
        }
      ],
      "source": [
        "data_full.head()"
      ]
    },
    {
      "cell_type": "code",
      "execution_count": null,
      "metadata": {
        "colab": {
          "base_uri": "https://localhost:8080/"
        },
        "id": "9P5PgyUeiAVS",
        "outputId": "73bccd1b-793e-43e9-8b00-b044d6a43dec"
      },
      "outputs": [
        {
          "output_type": "stream",
          "name": "stdout",
          "text": [
            "label\n",
            "negatif    780\n",
            "positif    692\n",
            "Name: count, dtype: int64\n"
          ]
        }
      ],
      "source": [
        "print(data_full['label'].value_counts())"
      ]
    },
    {
      "cell_type": "markdown",
      "source": [
        "# Cleansing"
      ],
      "metadata": {
        "id": "aBvp6f2S1geV"
      }
    },
    {
      "cell_type": "code",
      "source": [
        "data_full['text_clean'] = data_full['text'].apply(lambda teks: teks.lower())\n",
        "data_full.head()"
      ],
      "metadata": {
        "colab": {
          "base_uri": "https://localhost:8080/",
          "height": 206
        },
        "id": "b73FGdo41f9Y",
        "outputId": "96cc073a-a8ad-4b13-bc23-c529e42ee68e"
      },
      "execution_count": null,
      "outputs": [
        {
          "output_type": "execute_result",
          "data": {
            "text/plain": [
              "                                                text    label  \\\n",
              "0                    ikn ibukota koruptor nepotisme   negatif   \n",
              "1  sy mau tanya ikn itu untuk apa trs yg menempat...  negatif   \n",
              "2  bapak skolahin anak nya yg setinggi nnti bsa n...  negatif   \n",
              "3  wacana belim ada kesitu realnya dan faktanya a...  negatif   \n",
              "4  follow ig ikn pak udh dr lama kq buka lowongan...  negatif   \n",
              "\n",
              "                                          text_clean  \n",
              "0                    ikn ibukota koruptor nepotisme   \n",
              "1  sy mau tanya ikn itu untuk apa trs yg menempat...  \n",
              "2  bapak skolahin anak nya yg setinggi nnti bsa n...  \n",
              "3  wacana belim ada kesitu realnya dan faktanya a...  \n",
              "4  follow ig ikn pak udh dr lama kq buka lowongan...  "
            ],
            "text/html": [
              "\n",
              "  <div id=\"df-75beb45e-e9c0-4c5e-b133-753d860f4477\" class=\"colab-df-container\">\n",
              "    <div>\n",
              "<style scoped>\n",
              "    .dataframe tbody tr th:only-of-type {\n",
              "        vertical-align: middle;\n",
              "    }\n",
              "\n",
              "    .dataframe tbody tr th {\n",
              "        vertical-align: top;\n",
              "    }\n",
              "\n",
              "    .dataframe thead th {\n",
              "        text-align: right;\n",
              "    }\n",
              "</style>\n",
              "<table border=\"1\" class=\"dataframe\">\n",
              "  <thead>\n",
              "    <tr style=\"text-align: right;\">\n",
              "      <th></th>\n",
              "      <th>text</th>\n",
              "      <th>label</th>\n",
              "      <th>text_clean</th>\n",
              "    </tr>\n",
              "  </thead>\n",
              "  <tbody>\n",
              "    <tr>\n",
              "      <th>0</th>\n",
              "      <td>ikn ibukota koruptor nepotisme</td>\n",
              "      <td>negatif</td>\n",
              "      <td>ikn ibukota koruptor nepotisme</td>\n",
              "    </tr>\n",
              "    <tr>\n",
              "      <th>1</th>\n",
              "      <td>sy mau tanya ikn itu untuk apa trs yg menempat...</td>\n",
              "      <td>negatif</td>\n",
              "      <td>sy mau tanya ikn itu untuk apa trs yg menempat...</td>\n",
              "    </tr>\n",
              "    <tr>\n",
              "      <th>2</th>\n",
              "      <td>bapak skolahin anak nya yg setinggi nnti bsa n...</td>\n",
              "      <td>negatif</td>\n",
              "      <td>bapak skolahin anak nya yg setinggi nnti bsa n...</td>\n",
              "    </tr>\n",
              "    <tr>\n",
              "      <th>3</th>\n",
              "      <td>wacana belim ada kesitu realnya dan faktanya a...</td>\n",
              "      <td>negatif</td>\n",
              "      <td>wacana belim ada kesitu realnya dan faktanya a...</td>\n",
              "    </tr>\n",
              "    <tr>\n",
              "      <th>4</th>\n",
              "      <td>follow ig ikn pak udh dr lama kq buka lowongan...</td>\n",
              "      <td>negatif</td>\n",
              "      <td>follow ig ikn pak udh dr lama kq buka lowongan...</td>\n",
              "    </tr>\n",
              "  </tbody>\n",
              "</table>\n",
              "</div>\n",
              "    <div class=\"colab-df-buttons\">\n",
              "\n",
              "  <div class=\"colab-df-container\">\n",
              "    <button class=\"colab-df-convert\" onclick=\"convertToInteractive('df-75beb45e-e9c0-4c5e-b133-753d860f4477')\"\n",
              "            title=\"Convert this dataframe to an interactive table.\"\n",
              "            style=\"display:none;\">\n",
              "\n",
              "  <svg xmlns=\"http://www.w3.org/2000/svg\" height=\"24px\" viewBox=\"0 -960 960 960\">\n",
              "    <path d=\"M120-120v-720h720v720H120Zm60-500h600v-160H180v160Zm220 220h160v-160H400v160Zm0 220h160v-160H400v160ZM180-400h160v-160H180v160Zm440 0h160v-160H620v160ZM180-180h160v-160H180v160Zm440 0h160v-160H620v160Z\"/>\n",
              "  </svg>\n",
              "    </button>\n",
              "\n",
              "  <style>\n",
              "    .colab-df-container {\n",
              "      display:flex;\n",
              "      gap: 12px;\n",
              "    }\n",
              "\n",
              "    .colab-df-convert {\n",
              "      background-color: #E8F0FE;\n",
              "      border: none;\n",
              "      border-radius: 50%;\n",
              "      cursor: pointer;\n",
              "      display: none;\n",
              "      fill: #1967D2;\n",
              "      height: 32px;\n",
              "      padding: 0 0 0 0;\n",
              "      width: 32px;\n",
              "    }\n",
              "\n",
              "    .colab-df-convert:hover {\n",
              "      background-color: #E2EBFA;\n",
              "      box-shadow: 0px 1px 2px rgba(60, 64, 67, 0.3), 0px 1px 3px 1px rgba(60, 64, 67, 0.15);\n",
              "      fill: #174EA6;\n",
              "    }\n",
              "\n",
              "    .colab-df-buttons div {\n",
              "      margin-bottom: 4px;\n",
              "    }\n",
              "\n",
              "    [theme=dark] .colab-df-convert {\n",
              "      background-color: #3B4455;\n",
              "      fill: #D2E3FC;\n",
              "    }\n",
              "\n",
              "    [theme=dark] .colab-df-convert:hover {\n",
              "      background-color: #434B5C;\n",
              "      box-shadow: 0px 1px 3px 1px rgba(0, 0, 0, 0.15);\n",
              "      filter: drop-shadow(0px 1px 2px rgba(0, 0, 0, 0.3));\n",
              "      fill: #FFFFFF;\n",
              "    }\n",
              "  </style>\n",
              "\n",
              "    <script>\n",
              "      const buttonEl =\n",
              "        document.querySelector('#df-75beb45e-e9c0-4c5e-b133-753d860f4477 button.colab-df-convert');\n",
              "      buttonEl.style.display =\n",
              "        google.colab.kernel.accessAllowed ? 'block' : 'none';\n",
              "\n",
              "      async function convertToInteractive(key) {\n",
              "        const element = document.querySelector('#df-75beb45e-e9c0-4c5e-b133-753d860f4477');\n",
              "        const dataTable =\n",
              "          await google.colab.kernel.invokeFunction('convertToInteractive',\n",
              "                                                    [key], {});\n",
              "        if (!dataTable) return;\n",
              "\n",
              "        const docLinkHtml = 'Like what you see? Visit the ' +\n",
              "          '<a target=\"_blank\" href=https://colab.research.google.com/notebooks/data_table.ipynb>data table notebook</a>'\n",
              "          + ' to learn more about interactive tables.';\n",
              "        element.innerHTML = '';\n",
              "        dataTable['output_type'] = 'display_data';\n",
              "        await google.colab.output.renderOutput(dataTable, element);\n",
              "        const docLink = document.createElement('div');\n",
              "        docLink.innerHTML = docLinkHtml;\n",
              "        element.appendChild(docLink);\n",
              "      }\n",
              "    </script>\n",
              "  </div>\n",
              "\n",
              "\n",
              "    <div id=\"df-3233cd61-1e0b-4640-a469-a8a6e2c9241e\">\n",
              "      <button class=\"colab-df-quickchart\" onclick=\"quickchart('df-3233cd61-1e0b-4640-a469-a8a6e2c9241e')\"\n",
              "                title=\"Suggest charts\"\n",
              "                style=\"display:none;\">\n",
              "\n",
              "<svg xmlns=\"http://www.w3.org/2000/svg\" height=\"24px\"viewBox=\"0 0 24 24\"\n",
              "     width=\"24px\">\n",
              "    <g>\n",
              "        <path d=\"M19 3H5c-1.1 0-2 .9-2 2v14c0 1.1.9 2 2 2h14c1.1 0 2-.9 2-2V5c0-1.1-.9-2-2-2zM9 17H7v-7h2v7zm4 0h-2V7h2v10zm4 0h-2v-4h2v4z\"/>\n",
              "    </g>\n",
              "</svg>\n",
              "      </button>\n",
              "\n",
              "<style>\n",
              "  .colab-df-quickchart {\n",
              "      --bg-color: #E8F0FE;\n",
              "      --fill-color: #1967D2;\n",
              "      --hover-bg-color: #E2EBFA;\n",
              "      --hover-fill-color: #174EA6;\n",
              "      --disabled-fill-color: #AAA;\n",
              "      --disabled-bg-color: #DDD;\n",
              "  }\n",
              "\n",
              "  [theme=dark] .colab-df-quickchart {\n",
              "      --bg-color: #3B4455;\n",
              "      --fill-color: #D2E3FC;\n",
              "      --hover-bg-color: #434B5C;\n",
              "      --hover-fill-color: #FFFFFF;\n",
              "      --disabled-bg-color: #3B4455;\n",
              "      --disabled-fill-color: #666;\n",
              "  }\n",
              "\n",
              "  .colab-df-quickchart {\n",
              "    background-color: var(--bg-color);\n",
              "    border: none;\n",
              "    border-radius: 50%;\n",
              "    cursor: pointer;\n",
              "    display: none;\n",
              "    fill: var(--fill-color);\n",
              "    height: 32px;\n",
              "    padding: 0;\n",
              "    width: 32px;\n",
              "  }\n",
              "\n",
              "  .colab-df-quickchart:hover {\n",
              "    background-color: var(--hover-bg-color);\n",
              "    box-shadow: 0 1px 2px rgba(60, 64, 67, 0.3), 0 1px 3px 1px rgba(60, 64, 67, 0.15);\n",
              "    fill: var(--button-hover-fill-color);\n",
              "  }\n",
              "\n",
              "  .colab-df-quickchart-complete:disabled,\n",
              "  .colab-df-quickchart-complete:disabled:hover {\n",
              "    background-color: var(--disabled-bg-color);\n",
              "    fill: var(--disabled-fill-color);\n",
              "    box-shadow: none;\n",
              "  }\n",
              "\n",
              "  .colab-df-spinner {\n",
              "    border: 2px solid var(--fill-color);\n",
              "    border-color: transparent;\n",
              "    border-bottom-color: var(--fill-color);\n",
              "    animation:\n",
              "      spin 1s steps(1) infinite;\n",
              "  }\n",
              "\n",
              "  @keyframes spin {\n",
              "    0% {\n",
              "      border-color: transparent;\n",
              "      border-bottom-color: var(--fill-color);\n",
              "      border-left-color: var(--fill-color);\n",
              "    }\n",
              "    20% {\n",
              "      border-color: transparent;\n",
              "      border-left-color: var(--fill-color);\n",
              "      border-top-color: var(--fill-color);\n",
              "    }\n",
              "    30% {\n",
              "      border-color: transparent;\n",
              "      border-left-color: var(--fill-color);\n",
              "      border-top-color: var(--fill-color);\n",
              "      border-right-color: var(--fill-color);\n",
              "    }\n",
              "    40% {\n",
              "      border-color: transparent;\n",
              "      border-right-color: var(--fill-color);\n",
              "      border-top-color: var(--fill-color);\n",
              "    }\n",
              "    60% {\n",
              "      border-color: transparent;\n",
              "      border-right-color: var(--fill-color);\n",
              "    }\n",
              "    80% {\n",
              "      border-color: transparent;\n",
              "      border-right-color: var(--fill-color);\n",
              "      border-bottom-color: var(--fill-color);\n",
              "    }\n",
              "    90% {\n",
              "      border-color: transparent;\n",
              "      border-bottom-color: var(--fill-color);\n",
              "    }\n",
              "  }\n",
              "</style>\n",
              "\n",
              "      <script>\n",
              "        async function quickchart(key) {\n",
              "          const quickchartButtonEl =\n",
              "            document.querySelector('#' + key + ' button');\n",
              "          quickchartButtonEl.disabled = true;  // To prevent multiple clicks.\n",
              "          quickchartButtonEl.classList.add('colab-df-spinner');\n",
              "          try {\n",
              "            const charts = await google.colab.kernel.invokeFunction(\n",
              "                'suggestCharts', [key], {});\n",
              "          } catch (error) {\n",
              "            console.error('Error during call to suggestCharts:', error);\n",
              "          }\n",
              "          quickchartButtonEl.classList.remove('colab-df-spinner');\n",
              "          quickchartButtonEl.classList.add('colab-df-quickchart-complete');\n",
              "        }\n",
              "        (() => {\n",
              "          let quickchartButtonEl =\n",
              "            document.querySelector('#df-3233cd61-1e0b-4640-a469-a8a6e2c9241e button');\n",
              "          quickchartButtonEl.style.display =\n",
              "            google.colab.kernel.accessAllowed ? 'block' : 'none';\n",
              "        })();\n",
              "      </script>\n",
              "    </div>\n",
              "\n",
              "    </div>\n",
              "  </div>\n"
            ],
            "application/vnd.google.colaboratory.intrinsic+json": {
              "type": "dataframe",
              "variable_name": "data_full",
              "summary": "{\n  \"name\": \"data_full\",\n  \"rows\": 1472,\n  \"fields\": [\n    {\n      \"column\": \"text\",\n      \"properties\": {\n        \"dtype\": \"string\",\n        \"num_unique_values\": 1471,\n        \"samples\": [\n          \"ikn\",\n          \"nabi muhamad saw wafat pada usia tahun pada hari senin rabiul awal hijrah atau bertepatan juni masehi\",\n          \"gw pilih prabowo dan gibran\"\n        ],\n        \"semantic_type\": \"\",\n        \"description\": \"\"\n      }\n    },\n    {\n      \"column\": \"label\",\n      \"properties\": {\n        \"dtype\": \"category\",\n        \"num_unique_values\": 2,\n        \"samples\": [\n          \"positif\",\n          \"negatif\"\n        ],\n        \"semantic_type\": \"\",\n        \"description\": \"\"\n      }\n    },\n    {\n      \"column\": \"text_clean\",\n      \"properties\": {\n        \"dtype\": \"string\",\n        \"num_unique_values\": 1471,\n        \"samples\": [\n          \"ikn\",\n          \"nabi muhamad saw wafat pada usia tahun pada hari senin rabiul awal hijrah atau bertepatan juni masehi\"\n        ],\n        \"semantic_type\": \"\",\n        \"description\": \"\"\n      }\n    }\n  ]\n}"
            }
          },
          "metadata": {},
          "execution_count": 12
        }
      ]
    },
    {
      "cell_type": "code",
      "source": [
        "data_full['text_clean'].duplicated().sum()"
      ],
      "metadata": {
        "colab": {
          "base_uri": "https://localhost:8080/"
        },
        "id": "v1jlF1Lc1qc-",
        "outputId": "5b1310c0-9987-431a-f1bd-91b17ca6bc95"
      },
      "execution_count": null,
      "outputs": [
        {
          "output_type": "execute_result",
          "data": {
            "text/plain": [
              "np.int64(1)"
            ]
          },
          "metadata": {},
          "execution_count": 13
        }
      ]
    },
    {
      "cell_type": "code",
      "source": [
        "data_full['text_clean'].drop_duplicates(inplace = True)\n",
        "data_full.drop_duplicates(subset=['text_clean'], inplace=True)\n",
        "data_full['text_clean'].duplicated().sum()"
      ],
      "metadata": {
        "colab": {
          "base_uri": "https://localhost:8080/"
        },
        "id": "T7E2gkbT2DKK",
        "outputId": "de24462c-4e50-42ae-8eac-9b29c3406f78"
      },
      "execution_count": null,
      "outputs": [
        {
          "output_type": "execute_result",
          "data": {
            "text/plain": [
              "np.int64(0)"
            ]
          },
          "metadata": {},
          "execution_count": 14
        }
      ]
    },
    {
      "cell_type": "code",
      "source": [
        "def remove_hashtag(komentar):\n",
        "  hashtag = re.sub(r'#\\w+', \"\", komentar)\n",
        "  return hashtag\n",
        "\n",
        "def remove_add(komentar):\n",
        "  hashtag = re.sub(r'@\\w+', \"\", komentar)\n",
        "  return hashtag\n",
        "\n",
        "def remove_number(komentar):\n",
        "  num = re.sub(r'\\d+', \" \", komentar)\n",
        "  return num\n",
        "\n",
        "def remove_punctuation(komentar):\n",
        "  list_punct = string.punctuation\n",
        "  delete_punct = str.maketrans(list_punct,' '*len(list_punct))\n",
        "  new_review = ' '.join(komentar.translate(delete_punct).split())\n",
        "  return new_review\n",
        "\n",
        "def remove_superscript(komentar):\n",
        "  number = re.compile(\"[\"u\"\\U00002070\"\n",
        "                      u\"\\U000000B9\"\n",
        "                      u\"\\U000000B2-\\U000000B3\"\n",
        "                      u\"\\U00002074-\\U00002079\"\n",
        "                      u\"\\U0000207A-\\U0000207E\"\n",
        "                      u\"U0000200D\"\n",
        "                      \"]+\", flags=re.UNICODE)\n",
        "  return number.sub(r'', komentar)\n",
        "\n",
        "def char_repetition(komentar):\n",
        "  review = re.sub(r'(.)\\1+', r'\\1\\1', komentar)\n",
        "  return review\n",
        "\n",
        "def remove_extra_whitespaces(komentar):\n",
        "  review = re.sub(r'\\s+',' ', komentar)\n",
        "  return review\n",
        "\n",
        "def remove_username_word(komentar):\n",
        "    remove_username = re.sub(r'(?i)\\busername\\b', '', komentar)\n",
        "    return remove_username\n",
        "\n",
        "def remove_banned_words(komentar):\n",
        "    bannedword = ['uqjy', 'dehdje', 'jwdnmb', 'wxvlezuvws', 'ircel', 'swjjw', 'dmv',\n",
        "         'dxrgz','qjtajuq','zzhwntdft','xywrfw' ,'fztnmdrrduy' ,'xsezuz',\n",
        "         'kbyv', 'iyyveyzqkdgm', 'arlrmdjy', 'sfarif', 'sfomar',\n",
        "         'syantienurxsayurbox', 'ghinaxsayurbox', 'nzxx', 'mtsco','wkwk',\n",
        "         'wkwkw','wkwkwk','hihi','hihihii','hihihi','hehehe','hehehehe','hehe',\n",
        "         'huhu','huhuu','ancok','guak','cokcok','hhmm','annya','huftt']\n",
        "    re_banned_words = re.compile(r\"\\b(\" + \"|\".join(bannedword) + \")\\\\W\", re.I)\n",
        "    return re_banned_words.sub(\"\", komentar)\n",
        "\n",
        "def remove_links(komentar):\n",
        "    return re.sub(r'http\\S+|www\\S+|https\\S+', '', komentar)"
      ],
      "metadata": {
        "id": "JCRzuPbk2PbJ"
      },
      "execution_count": null,
      "outputs": []
    },
    {
      "cell_type": "code",
      "source": [
        "# data_full['text_clean'] = data_full['text_clean'].apply(lambda hashtag: remove_hashtag(hashtag))\n",
        "# data_full['text_clean'] = data_full['text_clean'].apply(lambda hashtag: remove_add(hashtag))\n",
        "# data_full['text_clean'] = data_full['text_clean'].apply(lambda number: remove_number(number))\n",
        "# data_full['text_clean'] = data_full['text_clean'].apply(lambda punc: remove_punctuation(punc))\n",
        "# data_full['text_clean'] = data_full['text_clean'].apply(lambda sup: remove_superscript(sup))\n",
        "# data_full['text_clean'] = data_full['text_clean'].apply(lambda char: char_repetition(char))\n",
        "# data_full['text_clean'] = data_full['text_clean'].apply(lambda space: remove_extra_whitespaces(space))\n",
        "# data_full['text_clean'] = data_full['text_clean'].apply(lambda username: remove_username_word(username))\n",
        "# data_full['text_clean'] = data_full['text_clean'].apply(lambda banned: remove_banned_words(banned))\n",
        "# data_full['text_clean'] = data_full['text_clean'].apply(lambda link: remove_links(link))\n",
        "# data_full.head()"
      ],
      "metadata": {
        "id": "FvGnb5GJ2jws"
      },
      "execution_count": null,
      "outputs": []
    },
    {
      "cell_type": "markdown",
      "source": [
        "# steamming + stopword"
      ],
      "metadata": {
        "id": "7YPkgEaXxmuo"
      }
    },
    {
      "cell_type": "code",
      "source": [
        "#steaming\n",
        "start_time = datetime.now()\n",
        "\n",
        "factory = StemmerFactory()\n",
        "stemmer = factory.create_stemmer()\n",
        "\n",
        "data_full['text_clean_steam'] = data_full['text'].apply(lambda x: stemmer.stem(x))\n",
        "data_full.head()\n",
        "\n",
        "end_time = datetime.now()\n",
        "print('Waktu yang diperlukan: {}'.format(end_time - start_time))"
      ],
      "metadata": {
        "colab": {
          "base_uri": "https://localhost:8080/"
        },
        "id": "vnzhueHq4OUS",
        "outputId": "c4979ba2-ae7d-4b72-ea6c-0e1dd8341a3f"
      },
      "execution_count": null,
      "outputs": [
        {
          "output_type": "stream",
          "name": "stdout",
          "text": [
            "Waktu yang diperlukan: 0:02:58.698785\n"
          ]
        }
      ]
    },
    {
      "cell_type": "code",
      "source": [
        "#stopword\n",
        "factory = StopWordRemoverFactory()\n",
        "list_stopword = factory.get_stop_words()\n",
        "len(list_stopword)"
      ],
      "metadata": {
        "id": "-bNcZ18p4oHZ",
        "colab": {
          "base_uri": "https://localhost:8080/"
        },
        "outputId": "39259292-b8a4-422c-d269-27f5ad18fc1f"
      },
      "execution_count": null,
      "outputs": [
        {
          "output_type": "execute_result",
          "data": {
            "text/plain": [
              "126"
            ]
          },
          "metadata": {},
          "execution_count": 19
        }
      ]
    },
    {
      "cell_type": "code",
      "source": [
        "#stopword\n",
        "factory = StopWordRemoverFactory()\n",
        "stopword = factory.create_stop_word_remover()\n",
        "\n",
        "data_full['text_stp_sastrawi'] = data_full['text_clean_steam'].apply(lambda x: \" \".join(stopword.remove(x) for x in x.split() ))\n",
        "data_full.head()"
      ],
      "metadata": {
        "id": "M_KdPVvi4vMe",
        "colab": {
          "base_uri": "https://localhost:8080/",
          "height": 206
        },
        "outputId": "d0eea1f4-5b16-4df2-fc5b-4a1d602ca163"
      },
      "execution_count": null,
      "outputs": [
        {
          "output_type": "execute_result",
          "data": {
            "text/plain": [
              "                                                text    label  \\\n",
              "0                    ikn ibukota koruptor nepotisme   negatif   \n",
              "1  sy mau tanya ikn itu untuk apa trs yg menempat...  negatif   \n",
              "2  bapak skolahin anak nya yg setinggi nnti bsa n...  negatif   \n",
              "3  wacana belim ada kesitu realnya dan faktanya a...  negatif   \n",
              "4  follow ig ikn pak udh dr lama kq buka lowongan...  negatif   \n",
              "\n",
              "                                          text_clean  \\\n",
              "0                    ikn ibukota koruptor nepotisme    \n",
              "1  sy mau tanya ikn itu untuk apa trs yg menempat...   \n",
              "2  bapak skolahin anak nya yg setinggi nnti bsa n...   \n",
              "3  wacana belim ada kesitu realnya dan faktanya a...   \n",
              "4  follow ig ikn pak udh dr lama kq buka lowongan...   \n",
              "\n",
              "                                    text_clean_steam  \\\n",
              "0                     ikn ibukota koruptor nepotisme   \n",
              "1  sy mau tanya ikn itu untuk apa trs yg tempat i...   \n",
              "2  bapak skolahin anak nya yg setinggi nnti bsa n...   \n",
              "3  wacana belim ada kesitu real dan fakta aja jan...   \n",
              "4  follow ig ikn pak udh dr lama kq buka lowong t...   \n",
              "\n",
              "                                   text_stp_sastrawi  \n",
              "0                     ikn ibukota koruptor nepotisme  \n",
              "1  sy mau tanya ikn   apa trs yg tempat ikn rakya...  \n",
              "2  bapak skolahin anak nya yg setinggi nnti bsa n...  \n",
              "3  wacana belim  kesitu real  fakta aja jangan ng...  \n",
              "4  follow ig ikn pak udh dr lama kq buka lowong t...  "
            ],
            "text/html": [
              "\n",
              "  <div id=\"df-af5a1a85-92ce-498e-8acb-817f51859d0a\" class=\"colab-df-container\">\n",
              "    <div>\n",
              "<style scoped>\n",
              "    .dataframe tbody tr th:only-of-type {\n",
              "        vertical-align: middle;\n",
              "    }\n",
              "\n",
              "    .dataframe tbody tr th {\n",
              "        vertical-align: top;\n",
              "    }\n",
              "\n",
              "    .dataframe thead th {\n",
              "        text-align: right;\n",
              "    }\n",
              "</style>\n",
              "<table border=\"1\" class=\"dataframe\">\n",
              "  <thead>\n",
              "    <tr style=\"text-align: right;\">\n",
              "      <th></th>\n",
              "      <th>text</th>\n",
              "      <th>label</th>\n",
              "      <th>text_clean</th>\n",
              "      <th>text_clean_steam</th>\n",
              "      <th>text_stp_sastrawi</th>\n",
              "    </tr>\n",
              "  </thead>\n",
              "  <tbody>\n",
              "    <tr>\n",
              "      <th>0</th>\n",
              "      <td>ikn ibukota koruptor nepotisme</td>\n",
              "      <td>negatif</td>\n",
              "      <td>ikn ibukota koruptor nepotisme</td>\n",
              "      <td>ikn ibukota koruptor nepotisme</td>\n",
              "      <td>ikn ibukota koruptor nepotisme</td>\n",
              "    </tr>\n",
              "    <tr>\n",
              "      <th>1</th>\n",
              "      <td>sy mau tanya ikn itu untuk apa trs yg menempat...</td>\n",
              "      <td>negatif</td>\n",
              "      <td>sy mau tanya ikn itu untuk apa trs yg menempat...</td>\n",
              "      <td>sy mau tanya ikn itu untuk apa trs yg tempat i...</td>\n",
              "      <td>sy mau tanya ikn   apa trs yg tempat ikn rakya...</td>\n",
              "    </tr>\n",
              "    <tr>\n",
              "      <th>2</th>\n",
              "      <td>bapak skolahin anak nya yg setinggi nnti bsa n...</td>\n",
              "      <td>negatif</td>\n",
              "      <td>bapak skolahin anak nya yg setinggi nnti bsa n...</td>\n",
              "      <td>bapak skolahin anak nya yg setinggi nnti bsa n...</td>\n",
              "      <td>bapak skolahin anak nya yg setinggi nnti bsa n...</td>\n",
              "    </tr>\n",
              "    <tr>\n",
              "      <th>3</th>\n",
              "      <td>wacana belim ada kesitu realnya dan faktanya a...</td>\n",
              "      <td>negatif</td>\n",
              "      <td>wacana belim ada kesitu realnya dan faktanya a...</td>\n",
              "      <td>wacana belim ada kesitu real dan fakta aja jan...</td>\n",
              "      <td>wacana belim  kesitu real  fakta aja jangan ng...</td>\n",
              "    </tr>\n",
              "    <tr>\n",
              "      <th>4</th>\n",
              "      <td>follow ig ikn pak udh dr lama kq buka lowongan...</td>\n",
              "      <td>negatif</td>\n",
              "      <td>follow ig ikn pak udh dr lama kq buka lowongan...</td>\n",
              "      <td>follow ig ikn pak udh dr lama kq buka lowong t...</td>\n",
              "      <td>follow ig ikn pak udh dr lama kq buka lowong t...</td>\n",
              "    </tr>\n",
              "  </tbody>\n",
              "</table>\n",
              "</div>\n",
              "    <div class=\"colab-df-buttons\">\n",
              "\n",
              "  <div class=\"colab-df-container\">\n",
              "    <button class=\"colab-df-convert\" onclick=\"convertToInteractive('df-af5a1a85-92ce-498e-8acb-817f51859d0a')\"\n",
              "            title=\"Convert this dataframe to an interactive table.\"\n",
              "            style=\"display:none;\">\n",
              "\n",
              "  <svg xmlns=\"http://www.w3.org/2000/svg\" height=\"24px\" viewBox=\"0 -960 960 960\">\n",
              "    <path d=\"M120-120v-720h720v720H120Zm60-500h600v-160H180v160Zm220 220h160v-160H400v160Zm0 220h160v-160H400v160ZM180-400h160v-160H180v160Zm440 0h160v-160H620v160ZM180-180h160v-160H180v160Zm440 0h160v-160H620v160Z\"/>\n",
              "  </svg>\n",
              "    </button>\n",
              "\n",
              "  <style>\n",
              "    .colab-df-container {\n",
              "      display:flex;\n",
              "      gap: 12px;\n",
              "    }\n",
              "\n",
              "    .colab-df-convert {\n",
              "      background-color: #E8F0FE;\n",
              "      border: none;\n",
              "      border-radius: 50%;\n",
              "      cursor: pointer;\n",
              "      display: none;\n",
              "      fill: #1967D2;\n",
              "      height: 32px;\n",
              "      padding: 0 0 0 0;\n",
              "      width: 32px;\n",
              "    }\n",
              "\n",
              "    .colab-df-convert:hover {\n",
              "      background-color: #E2EBFA;\n",
              "      box-shadow: 0px 1px 2px rgba(60, 64, 67, 0.3), 0px 1px 3px 1px rgba(60, 64, 67, 0.15);\n",
              "      fill: #174EA6;\n",
              "    }\n",
              "\n",
              "    .colab-df-buttons div {\n",
              "      margin-bottom: 4px;\n",
              "    }\n",
              "\n",
              "    [theme=dark] .colab-df-convert {\n",
              "      background-color: #3B4455;\n",
              "      fill: #D2E3FC;\n",
              "    }\n",
              "\n",
              "    [theme=dark] .colab-df-convert:hover {\n",
              "      background-color: #434B5C;\n",
              "      box-shadow: 0px 1px 3px 1px rgba(0, 0, 0, 0.15);\n",
              "      filter: drop-shadow(0px 1px 2px rgba(0, 0, 0, 0.3));\n",
              "      fill: #FFFFFF;\n",
              "    }\n",
              "  </style>\n",
              "\n",
              "    <script>\n",
              "      const buttonEl =\n",
              "        document.querySelector('#df-af5a1a85-92ce-498e-8acb-817f51859d0a button.colab-df-convert');\n",
              "      buttonEl.style.display =\n",
              "        google.colab.kernel.accessAllowed ? 'block' : 'none';\n",
              "\n",
              "      async function convertToInteractive(key) {\n",
              "        const element = document.querySelector('#df-af5a1a85-92ce-498e-8acb-817f51859d0a');\n",
              "        const dataTable =\n",
              "          await google.colab.kernel.invokeFunction('convertToInteractive',\n",
              "                                                    [key], {});\n",
              "        if (!dataTable) return;\n",
              "\n",
              "        const docLinkHtml = 'Like what you see? Visit the ' +\n",
              "          '<a target=\"_blank\" href=https://colab.research.google.com/notebooks/data_table.ipynb>data table notebook</a>'\n",
              "          + ' to learn more about interactive tables.';\n",
              "        element.innerHTML = '';\n",
              "        dataTable['output_type'] = 'display_data';\n",
              "        await google.colab.output.renderOutput(dataTable, element);\n",
              "        const docLink = document.createElement('div');\n",
              "        docLink.innerHTML = docLinkHtml;\n",
              "        element.appendChild(docLink);\n",
              "      }\n",
              "    </script>\n",
              "  </div>\n",
              "\n",
              "\n",
              "    <div id=\"df-56d8d36e-b46c-4de0-9ed6-8ec89cefe0ec\">\n",
              "      <button class=\"colab-df-quickchart\" onclick=\"quickchart('df-56d8d36e-b46c-4de0-9ed6-8ec89cefe0ec')\"\n",
              "                title=\"Suggest charts\"\n",
              "                style=\"display:none;\">\n",
              "\n",
              "<svg xmlns=\"http://www.w3.org/2000/svg\" height=\"24px\"viewBox=\"0 0 24 24\"\n",
              "     width=\"24px\">\n",
              "    <g>\n",
              "        <path d=\"M19 3H5c-1.1 0-2 .9-2 2v14c0 1.1.9 2 2 2h14c1.1 0 2-.9 2-2V5c0-1.1-.9-2-2-2zM9 17H7v-7h2v7zm4 0h-2V7h2v10zm4 0h-2v-4h2v4z\"/>\n",
              "    </g>\n",
              "</svg>\n",
              "      </button>\n",
              "\n",
              "<style>\n",
              "  .colab-df-quickchart {\n",
              "      --bg-color: #E8F0FE;\n",
              "      --fill-color: #1967D2;\n",
              "      --hover-bg-color: #E2EBFA;\n",
              "      --hover-fill-color: #174EA6;\n",
              "      --disabled-fill-color: #AAA;\n",
              "      --disabled-bg-color: #DDD;\n",
              "  }\n",
              "\n",
              "  [theme=dark] .colab-df-quickchart {\n",
              "      --bg-color: #3B4455;\n",
              "      --fill-color: #D2E3FC;\n",
              "      --hover-bg-color: #434B5C;\n",
              "      --hover-fill-color: #FFFFFF;\n",
              "      --disabled-bg-color: #3B4455;\n",
              "      --disabled-fill-color: #666;\n",
              "  }\n",
              "\n",
              "  .colab-df-quickchart {\n",
              "    background-color: var(--bg-color);\n",
              "    border: none;\n",
              "    border-radius: 50%;\n",
              "    cursor: pointer;\n",
              "    display: none;\n",
              "    fill: var(--fill-color);\n",
              "    height: 32px;\n",
              "    padding: 0;\n",
              "    width: 32px;\n",
              "  }\n",
              "\n",
              "  .colab-df-quickchart:hover {\n",
              "    background-color: var(--hover-bg-color);\n",
              "    box-shadow: 0 1px 2px rgba(60, 64, 67, 0.3), 0 1px 3px 1px rgba(60, 64, 67, 0.15);\n",
              "    fill: var(--button-hover-fill-color);\n",
              "  }\n",
              "\n",
              "  .colab-df-quickchart-complete:disabled,\n",
              "  .colab-df-quickchart-complete:disabled:hover {\n",
              "    background-color: var(--disabled-bg-color);\n",
              "    fill: var(--disabled-fill-color);\n",
              "    box-shadow: none;\n",
              "  }\n",
              "\n",
              "  .colab-df-spinner {\n",
              "    border: 2px solid var(--fill-color);\n",
              "    border-color: transparent;\n",
              "    border-bottom-color: var(--fill-color);\n",
              "    animation:\n",
              "      spin 1s steps(1) infinite;\n",
              "  }\n",
              "\n",
              "  @keyframes spin {\n",
              "    0% {\n",
              "      border-color: transparent;\n",
              "      border-bottom-color: var(--fill-color);\n",
              "      border-left-color: var(--fill-color);\n",
              "    }\n",
              "    20% {\n",
              "      border-color: transparent;\n",
              "      border-left-color: var(--fill-color);\n",
              "      border-top-color: var(--fill-color);\n",
              "    }\n",
              "    30% {\n",
              "      border-color: transparent;\n",
              "      border-left-color: var(--fill-color);\n",
              "      border-top-color: var(--fill-color);\n",
              "      border-right-color: var(--fill-color);\n",
              "    }\n",
              "    40% {\n",
              "      border-color: transparent;\n",
              "      border-right-color: var(--fill-color);\n",
              "      border-top-color: var(--fill-color);\n",
              "    }\n",
              "    60% {\n",
              "      border-color: transparent;\n",
              "      border-right-color: var(--fill-color);\n",
              "    }\n",
              "    80% {\n",
              "      border-color: transparent;\n",
              "      border-right-color: var(--fill-color);\n",
              "      border-bottom-color: var(--fill-color);\n",
              "    }\n",
              "    90% {\n",
              "      border-color: transparent;\n",
              "      border-bottom-color: var(--fill-color);\n",
              "    }\n",
              "  }\n",
              "</style>\n",
              "\n",
              "      <script>\n",
              "        async function quickchart(key) {\n",
              "          const quickchartButtonEl =\n",
              "            document.querySelector('#' + key + ' button');\n",
              "          quickchartButtonEl.disabled = true;  // To prevent multiple clicks.\n",
              "          quickchartButtonEl.classList.add('colab-df-spinner');\n",
              "          try {\n",
              "            const charts = await google.colab.kernel.invokeFunction(\n",
              "                'suggestCharts', [key], {});\n",
              "          } catch (error) {\n",
              "            console.error('Error during call to suggestCharts:', error);\n",
              "          }\n",
              "          quickchartButtonEl.classList.remove('colab-df-spinner');\n",
              "          quickchartButtonEl.classList.add('colab-df-quickchart-complete');\n",
              "        }\n",
              "        (() => {\n",
              "          let quickchartButtonEl =\n",
              "            document.querySelector('#df-56d8d36e-b46c-4de0-9ed6-8ec89cefe0ec button');\n",
              "          quickchartButtonEl.style.display =\n",
              "            google.colab.kernel.accessAllowed ? 'block' : 'none';\n",
              "        })();\n",
              "      </script>\n",
              "    </div>\n",
              "\n",
              "    </div>\n",
              "  </div>\n"
            ],
            "application/vnd.google.colaboratory.intrinsic+json": {
              "type": "dataframe",
              "variable_name": "data_full",
              "summary": "{\n  \"name\": \"data_full\",\n  \"rows\": 1471,\n  \"fields\": [\n    {\n      \"column\": \"text\",\n      \"properties\": {\n        \"dtype\": \"string\",\n        \"num_unique_values\": 1471,\n        \"samples\": [\n          \"ikn\",\n          \"nabi muhamad saw wafat pada usia tahun pada hari senin rabiul awal hijrah atau bertepatan juni masehi\",\n          \"gw pilih prabowo dan gibran\"\n        ],\n        \"semantic_type\": \"\",\n        \"description\": \"\"\n      }\n    },\n    {\n      \"column\": \"label\",\n      \"properties\": {\n        \"dtype\": \"category\",\n        \"num_unique_values\": 2,\n        \"samples\": [\n          \"positif\",\n          \"negatif\"\n        ],\n        \"semantic_type\": \"\",\n        \"description\": \"\"\n      }\n    },\n    {\n      \"column\": \"text_clean\",\n      \"properties\": {\n        \"dtype\": \"string\",\n        \"num_unique_values\": 1471,\n        \"samples\": [\n          \"ikn\",\n          \"nabi muhamad saw wafat pada usia tahun pada hari senin rabiul awal hijrah atau bertepatan juni masehi\"\n        ],\n        \"semantic_type\": \"\",\n        \"description\": \"\"\n      }\n    },\n    {\n      \"column\": \"text_clean_steam\",\n      \"properties\": {\n        \"dtype\": \"string\",\n        \"num_unique_values\": 1466,\n        \"samples\": [\n          \"karya anak bangsa\",\n          \"nabi muhamad saw wafat pada usia tahun pada hari senin rabiul awal hijrah atau tepat juni masehi\"\n        ],\n        \"semantic_type\": \"\",\n        \"description\": \"\"\n      }\n    },\n    {\n      \"column\": \"text_stp_sastrawi\",\n      \"properties\": {\n        \"dtype\": \"string\",\n        \"num_unique_values\": 1466,\n        \"samples\": [\n          \"karya anak bangsa\",\n          \"nabi muhamad saw wafat  usia tahun  hari senin rabiul awal hijrah  tepat juni masehi\"\n        ],\n        \"semantic_type\": \"\",\n        \"description\": \"\"\n      }\n    }\n  ]\n}"
            }
          },
          "metadata": {},
          "execution_count": 20
        }
      ]
    },
    {
      "cell_type": "markdown",
      "source": [
        "# Split data"
      ],
      "metadata": {
        "id": "qpGVHDay3qMy"
      }
    },
    {
      "cell_type": "code",
      "source": [
        "from sklearn.model_selection import train_test_split\n",
        "\n",
        "X = data_full[\"text_clean_steam\"]\n",
        "y = data_full[\"label\"]\n",
        "\n",
        "# Split pertama: Train (70%) + Temp (30%)\n",
        "X_train, X_temp, y_train, y_temp = train_test_split(\n",
        "    X, y, test_size=0.3, random_state=42, stratify=y\n",
        ")\n",
        "\n",
        "# Split kedua: Validation (15%) + Test (15%)\n",
        "X_val, X_test, y_val, y_test = train_test_split(\n",
        "    X_temp, y_temp, test_size=0.5, random_state=42, stratify=y_temp\n",
        ")\n",
        "\n",
        "print(\"Train:\", len(X_train))\n",
        "print(\"Validation:\", len(X_val))\n",
        "print(\"Test:\", len(X_test))\n"
      ],
      "metadata": {
        "id": "fYrlSb-C3s_J",
        "colab": {
          "base_uri": "https://localhost:8080/"
        },
        "outputId": "9072c3f6-9365-4701-ccf6-1ccf1ed45f5c"
      },
      "execution_count": null,
      "outputs": [
        {
          "output_type": "stream",
          "name": "stdout",
          "text": [
            "Train: 1029\n",
            "Validation: 221\n",
            "Test: 221\n"
          ]
        }
      ]
    },
    {
      "cell_type": "code",
      "source": [
        "df_train = pd.DataFrame({\"text\": X_train, \"label\": y_train})\n",
        "df_val   = pd.DataFrame({\"text\": X_val, \"label\": y_val})\n",
        "df_test  = pd.DataFrame({\"text\": X_test, \"label\": y_test})\n"
      ],
      "metadata": {
        "id": "7jjM1hC0-YGS"
      },
      "execution_count": null,
      "outputs": []
    },
    {
      "cell_type": "markdown",
      "metadata": {
        "id": "D19D5JxbvkT1"
      },
      "source": [
        "# **LSTM + IndoBert**"
      ]
    },
    {
      "cell_type": "markdown",
      "metadata": {
        "id": "7s4VuU4adw-e"
      },
      "source": [
        "IndoBERT Tokenizer + Model"
      ]
    },
    {
      "cell_type": "code",
      "source": [
        "device = \"cuda\" if torch.cuda.is_available() else \"cpu\""
      ],
      "metadata": {
        "id": "sGPOTtAt-1EF"
      },
      "execution_count": null,
      "outputs": []
    },
    {
      "cell_type": "code",
      "execution_count": null,
      "metadata": {
        "colab": {
          "base_uri": "https://localhost:8080/"
        },
        "id": "Fl98T6ctvpOS",
        "outputId": "95bac6d8-7f56-4c04-94bb-c5a7464832bf"
      },
      "outputs": [
        {
          "output_type": "stream",
          "name": "stderr",
          "text": [
            "/usr/local/lib/python3.12/dist-packages/huggingface_hub/utils/_auth.py:94: UserWarning: \n",
            "The secret `HF_TOKEN` does not exist in your Colab secrets.\n",
            "To authenticate with the Hugging Face Hub, create a token in your settings tab (https://huggingface.co/settings/tokens), set it as secret in your Google Colab and restart your session.\n",
            "You will be able to reuse this secret in all of your notebooks.\n",
            "Please note that authentication is recommended but still optional to access public models or datasets.\n",
            "  warnings.warn(\n"
          ]
        },
        {
          "output_type": "execute_result",
          "data": {
            "text/plain": [
              "BertModel(\n",
              "  (embeddings): BertEmbeddings(\n",
              "    (word_embeddings): Embedding(31923, 768, padding_idx=0)\n",
              "    (position_embeddings): Embedding(512, 768)\n",
              "    (token_type_embeddings): Embedding(2, 768)\n",
              "    (LayerNorm): LayerNorm((768,), eps=1e-12, elementwise_affine=True)\n",
              "    (dropout): Dropout(p=0.1, inplace=False)\n",
              "  )\n",
              "  (encoder): BertEncoder(\n",
              "    (layer): ModuleList(\n",
              "      (0-11): 12 x BertLayer(\n",
              "        (attention): BertAttention(\n",
              "          (self): BertSdpaSelfAttention(\n",
              "            (query): Linear(in_features=768, out_features=768, bias=True)\n",
              "            (key): Linear(in_features=768, out_features=768, bias=True)\n",
              "            (value): Linear(in_features=768, out_features=768, bias=True)\n",
              "            (dropout): Dropout(p=0.1, inplace=False)\n",
              "          )\n",
              "          (output): BertSelfOutput(\n",
              "            (dense): Linear(in_features=768, out_features=768, bias=True)\n",
              "            (LayerNorm): LayerNorm((768,), eps=1e-12, elementwise_affine=True)\n",
              "            (dropout): Dropout(p=0.1, inplace=False)\n",
              "          )\n",
              "        )\n",
              "        (intermediate): BertIntermediate(\n",
              "          (dense): Linear(in_features=768, out_features=3072, bias=True)\n",
              "          (intermediate_act_fn): GELUActivation()\n",
              "        )\n",
              "        (output): BertOutput(\n",
              "          (dense): Linear(in_features=3072, out_features=768, bias=True)\n",
              "          (LayerNorm): LayerNorm((768,), eps=1e-12, elementwise_affine=True)\n",
              "          (dropout): Dropout(p=0.1, inplace=False)\n",
              "        )\n",
              "      )\n",
              "    )\n",
              "  )\n",
              "  (pooler): BertPooler(\n",
              "    (dense): Linear(in_features=768, out_features=768, bias=True)\n",
              "    (activation): Tanh()\n",
              "  )\n",
              ")"
            ]
          },
          "metadata": {},
          "execution_count": 24
        }
      ],
      "source": [
        "model_name = \"indolem/indobertweet-base-uncased\"\n",
        "tokenizer = AutoTokenizer.from_pretrained(model_name)\n",
        "indobert = AutoModel.from_pretrained(model_name).to(device)\n",
        "indobert.eval()\n"
      ]
    },
    {
      "cell_type": "markdown",
      "metadata": {
        "id": "PZBQApvoecT9"
      },
      "source": [
        "function to encode with IndoBERT"
      ]
    },
    {
      "cell_type": "code",
      "execution_count": null,
      "metadata": {
        "id": "tC-OzQCtwAAL"
      },
      "outputs": [],
      "source": [
        "def bert_encode(texts, tokenizer, model, device, max_len=128, batch_size=32):\n",
        "    embeddings = []\n",
        "    loader = DataLoader(texts, batch_size=batch_size, shuffle=False)\n",
        "    with torch.no_grad():\n",
        "        for batch_texts in loader:\n",
        "            enc = tokenizer(\n",
        "                list(batch_texts),\n",
        "                truncation=True, padding=\"max_length\",\n",
        "                max_length=max_len, return_tensors=\"pt\"\n",
        "            )\n",
        "            input_ids = enc[\"input_ids\"].to(device)\n",
        "            attention_mask = enc[\"attention_mask\"].to(device)\n",
        "            outputs = model(input_ids=input_ids, attention_mask=attention_mask)\n",
        "            seq_emb = outputs.last_hidden_state   # [batch, seq_len, 768]\n",
        "            embeddings.append(seq_emb.cpu())\n",
        "    return torch.cat(embeddings, dim=0)"
      ]
    },
    {
      "cell_type": "code",
      "execution_count": null,
      "metadata": {
        "colab": {
          "base_uri": "https://localhost:8080/"
        },
        "id": "2q0Z9dZav6Ih",
        "outputId": "541f71ae-0a4e-434b-e6bc-503d98d8b29c"
      },
      "outputs": [
        {
          "output_type": "stream",
          "name": "stdout",
          "text": [
            "Encoding dataset with IndoBERT...\n"
          ]
        }
      ],
      "source": [
        "print(\"Encoding dataset with IndoBERT...\")\n",
        "X_train_bert = bert_encode(df_train[\"text\"].tolist(), tokenizer, indobert, device)\n",
        "X_val_bert   = bert_encode(df_val[\"text\"].tolist(), tokenizer, indobert, device)\n",
        "X_test_bert  = bert_encode(df_test[\"text\"].tolist(), tokenizer, indobert, device)"
      ]
    },
    {
      "cell_type": "code",
      "execution_count": null,
      "metadata": {
        "id": "rLrVjOWQ3ylk",
        "colab": {
          "base_uri": "https://localhost:8080/"
        },
        "outputId": "77d5ddf2-b3a6-4cb9-fff0-498563a68fe9"
      },
      "outputs": [
        {
          "output_type": "stream",
          "name": "stdout",
          "text": [
            "Mapping label: {'negatif': np.int64(0), 'positif': np.int64(1)}\n",
            "Contoh y_train_bert: tensor([1, 0, 0, 0, 0, 1, 1, 0, 1, 0])\n"
          ]
        }
      ],
      "source": [
        "from sklearn.preprocessing import LabelEncoder\n",
        "import torch\n",
        "\n",
        "# Buat encoder dan fit hanya dari data train\n",
        "le = LabelEncoder()\n",
        "le.fit(df_train[\"label\"])\n",
        "\n",
        "# Transform label ke angka\n",
        "y_train_bert = torch.tensor(le.transform(df_train[\"label\"]), dtype=torch.long)\n",
        "y_val_bert   = torch.tensor(le.transform(df_val[\"label\"]), dtype=torch.long)\n",
        "y_test_bert  = torch.tensor(le.transform(df_test[\"label\"]), dtype=torch.long)\n",
        "\n",
        "# Cek mapping label → angka\n",
        "print(\"Mapping label:\", dict(zip(le.classes_, le.transform(le.classes_))))\n",
        "print(\"Contoh y_train_bert:\", y_train_bert[:10])\n"
      ]
    },
    {
      "cell_type": "markdown",
      "metadata": {
        "id": "Z8QeWP6VevZO"
      },
      "source": [
        "LSTM Classifier"
      ]
    },
    {
      "cell_type": "code",
      "execution_count": null,
      "metadata": {
        "id": "l3SnZibttbG4"
      },
      "outputs": [],
      "source": [
        "class LSTMIndoBERT(nn.Module):\n",
        "    def __init__(self, input_dim=768, hidden_dim=128, output_dim=2, dropout=0.5):\n",
        "        super().__init__()\n",
        "        self.lstm = nn.LSTM(input_dim, hidden_dim, batch_first=True, bidirectional=True)\n",
        "        self.dropout = nn.Dropout(dropout)\n",
        "        self.fc = nn.Linear(hidden_dim*2, output_dim)  # *2 karena bidirectional\n",
        "\n",
        "    def forward(self, x):\n",
        "        # x = [batch, seq_len, 768]\n",
        "        _, (hidden, _) = self.lstm(x)   # hidden = [2, batch, hidden_dim]\n",
        "        hidden_cat = torch.cat((hidden[-2], hidden[-1]), dim=1)  # gabung arah fw+bw\n",
        "        out = self.fc(self.dropout(hidden_cat))\n",
        "        return out\n",
        "model_bert = LSTMIndoBERT().to(device)"
      ]
    },
    {
      "cell_type": "code",
      "execution_count": null,
      "metadata": {
        "colab": {
          "base_uri": "https://localhost:8080/"
        },
        "id": "p_D5WZ9lta4K",
        "outputId": "6e11565d-3078-4154-d62d-dcd5f3977296"
      },
      "outputs": [
        {
          "output_type": "stream",
          "name": "stdout",
          "text": [
            "Epoch 1/100 | Train Loss: 0.7338 | Train Acc: 0.4859 | Val Loss: 0.7560 | Val Acc: 0.4977 (BEST)\n",
            "Epoch 2/100 | Train Loss: 0.7047 | Train Acc: 0.5190 | Val Loss: 0.7320 | Val Acc: 0.5566 (BEST)\n",
            "Epoch 3/100 | Train Loss: 0.6855 | Train Acc: 0.5656 | Val Loss: 0.7140 | Val Acc: 0.6516 (BEST)\n",
            "Epoch 4/100 | Train Loss: 0.6633 | Train Acc: 0.6385 | Val Loss: 0.6994 | Val Acc: 0.6923 (BEST)\n",
            "Epoch 5/100 | Train Loss: 0.6551 | Train Acc: 0.6472 | Val Loss: 0.6851 | Val Acc: 0.7149 (BEST)\n",
            "Epoch 6/100 | Train Loss: 0.6340 | Train Acc: 0.6948 | Val Loss: 0.6718 | Val Acc: 0.7376 (BEST)\n",
            "Epoch 7/100 | Train Loss: 0.6162 | Train Acc: 0.7172 | Val Loss: 0.6592 | Val Acc: 0.7466 (BEST)\n",
            "Epoch 8/100 | Train Loss: 0.6128 | Train Acc: 0.7230 | Val Loss: 0.6463 | Val Acc: 0.7602 (BEST)\n",
            "Epoch 9/100 | Train Loss: 0.5953 | Train Acc: 0.7425 | Val Loss: 0.6346 | Val Acc: 0.7783 (BEST)\n",
            "Epoch 10/100 | Train Loss: 0.5858 | Train Acc: 0.7580 | Val Loss: 0.6231 | Val Acc: 0.7873 (BEST)\n",
            "Epoch 11/100 | Train Loss: 0.5682 | Train Acc: 0.7716 | Val Loss: 0.6115 | Val Acc: 0.8009 (BEST)\n",
            "Epoch 12/100 | Train Loss: 0.5614 | Train Acc: 0.7862 | Val Loss: 0.6006 | Val Acc: 0.8054 (BEST)\n",
            "Epoch 13/100 | Train Loss: 0.5489 | Train Acc: 0.7833 | Val Loss: 0.5900 | Val Acc: 0.8009\n",
            "Epoch 14/100 | Train Loss: 0.5313 | Train Acc: 0.8027 | Val Loss: 0.5797 | Val Acc: 0.8100 (BEST)\n",
            "Epoch 15/100 | Train Loss: 0.5131 | Train Acc: 0.8154 | Val Loss: 0.5697 | Val Acc: 0.8100\n",
            "Epoch 16/100 | Train Loss: 0.5143 | Train Acc: 0.7949 | Val Loss: 0.5606 | Val Acc: 0.8009\n",
            "Epoch 17/100 | Train Loss: 0.4986 | Train Acc: 0.8202 | Val Loss: 0.5518 | Val Acc: 0.8100\n",
            "Epoch 18/100 | Train Loss: 0.4807 | Train Acc: 0.8465 | Val Loss: 0.5432 | Val Acc: 0.8190 (BEST)\n",
            "Epoch 19/100 | Train Loss: 0.4700 | Train Acc: 0.8309 | Val Loss: 0.5351 | Val Acc: 0.8190\n",
            "Epoch 20/100 | Train Loss: 0.4633 | Train Acc: 0.8377 | Val Loss: 0.5275 | Val Acc: 0.8100\n",
            "Epoch 21/100 | Train Loss: 0.4548 | Train Acc: 0.8416 | Val Loss: 0.5201 | Val Acc: 0.8235 (BEST)\n",
            "Epoch 22/100 | Train Loss: 0.4395 | Train Acc: 0.8406 | Val Loss: 0.5133 | Val Acc: 0.8235\n",
            "Epoch 23/100 | Train Loss: 0.4252 | Train Acc: 0.8533 | Val Loss: 0.5071 | Val Acc: 0.8281 (BEST)\n",
            "Epoch 24/100 | Train Loss: 0.4152 | Train Acc: 0.8620 | Val Loss: 0.5010 | Val Acc: 0.8235\n",
            "Epoch 25/100 | Train Loss: 0.4085 | Train Acc: 0.8610 | Val Loss: 0.4949 | Val Acc: 0.8326 (BEST)\n",
            "Epoch 26/100 | Train Loss: 0.4076 | Train Acc: 0.8533 | Val Loss: 0.4895 | Val Acc: 0.8326\n",
            "Epoch 27/100 | Train Loss: 0.3836 | Train Acc: 0.8698 | Val Loss: 0.4848 | Val Acc: 0.8326\n",
            "Epoch 28/100 | Train Loss: 0.3863 | Train Acc: 0.8727 | Val Loss: 0.4791 | Val Acc: 0.8326\n",
            "Epoch 29/100 | Train Loss: 0.3781 | Train Acc: 0.8610 | Val Loss: 0.4732 | Val Acc: 0.8371 (BEST)\n",
            "Epoch 30/100 | Train Loss: 0.3717 | Train Acc: 0.8581 | Val Loss: 0.4700 | Val Acc: 0.8326\n",
            "Epoch 31/100 | Train Loss: 0.3609 | Train Acc: 0.8746 | Val Loss: 0.4654 | Val Acc: 0.8416 (BEST)\n",
            "Epoch 32/100 | Train Loss: 0.3511 | Train Acc: 0.8756 | Val Loss: 0.4632 | Val Acc: 0.8326\n",
            "Epoch 33/100 | Train Loss: 0.3438 | Train Acc: 0.8941 | Val Loss: 0.4586 | Val Acc: 0.8416\n",
            "Epoch 34/100 | Train Loss: 0.3291 | Train Acc: 0.8766 | Val Loss: 0.4565 | Val Acc: 0.8462 (BEST)\n",
            "Epoch 35/100 | Train Loss: 0.3243 | Train Acc: 0.8863 | Val Loss: 0.4518 | Val Acc: 0.8416\n",
            "Epoch 36/100 | Train Loss: 0.3135 | Train Acc: 0.8853 | Val Loss: 0.4498 | Val Acc: 0.8416\n",
            "Epoch 37/100 | Train Loss: 0.3043 | Train Acc: 0.8912 | Val Loss: 0.4469 | Val Acc: 0.8416\n",
            "Epoch 38/100 | Train Loss: 0.3044 | Train Acc: 0.8912 | Val Loss: 0.4449 | Val Acc: 0.8416\n",
            "Epoch 39/100 | Train Loss: 0.2898 | Train Acc: 0.9018 | Val Loss: 0.4426 | Val Acc: 0.8371\n",
            "\n",
            "Early Stopping: Val Accuracy tidak membaik selama 5 epoch. Menghentikan pelatihan.\n",
            "\n",
            "Bobot model terbaik (berdasarkan Val Accuracy) telah dimuat untuk evaluasi.\n",
            "Best Validation Accuracy: 0.8462\n"
          ]
        }
      ],
      "source": [
        "optimizer = torch.optim.Adam(\n",
        "    filter(lambda p: p.requires_grad, model_bert.parameters()),\n",
        "    lr=1e-5,\n",
        "    weight_decay=1e-4\n",
        ")\n",
        "criterion = nn.CrossEntropyLoss()\n",
        "batch_size = 16\n",
        "epochs = 100  # Tetapkan tinggi, Early Stopping akan berhenti lebih awal\n",
        "\n",
        "train_losses, val_losses = [], []\n",
        "train_accs, val_accs = [], []\n",
        "# ===============================================\n",
        "# Variabel Early Stopping berbasis Val Accuracy (tanpa min_delta)\n",
        "# ===============================================\n",
        "best_val_acc = 0.0        # akurasi validasi tertinggi\n",
        "patience = 5         # berhenti kalau stagnan selama 10 epoch\n",
        "patience_counter = 0\n",
        "best_model_state = None\n",
        "# ===============================================\n",
        "\n",
        "for epoch in range(epochs):\n",
        "    # ==========================\n",
        "    # Training\n",
        "    # ==========================\n",
        "    model_bert.train()\n",
        "    total_loss, correct, total = 0, 0, 0\n",
        "    for i in range(0, len(X_train_bert), batch_size):\n",
        "        x_batch = X_train_bert[i:i+batch_size].to(device)\n",
        "        y_batch = y_train_bert[i:i+batch_size].to(device)\n",
        "\n",
        "        optimizer.zero_grad()\n",
        "        outputs = model_bert(x_batch)\n",
        "        loss = criterion(outputs, y_batch)\n",
        "        loss.backward()\n",
        "        optimizer.step()\n",
        "\n",
        "        total_loss += loss.item()\n",
        "        predicted = torch.max(outputs, 1)[1]\n",
        "        total += y_batch.size(0)\n",
        "        correct += (predicted == y_batch).sum().item()\n",
        "\n",
        "    avg_loss = total_loss / (len(X_train_bert) // batch_size)\n",
        "    acc = correct / total\n",
        "\n",
        "    # ==========================\n",
        "    # Validation\n",
        "    # ==========================\n",
        "    model_bert.eval()\n",
        "    val_loss, correct, total = 0, 0, 0\n",
        "    with torch.no_grad():\n",
        "        for i in range(0, len(X_val_bert), batch_size):\n",
        "            x_batch = X_val_bert[i:i+batch_size].to(device)\n",
        "            y_batch = y_val_bert[i:i+batch_size].to(device)\n",
        "\n",
        "            outputs = model_bert(x_batch)\n",
        "            loss = criterion(outputs, y_batch)\n",
        "            val_loss += loss.item()\n",
        "            predicted = torch.max(outputs, 1)[1]\n",
        "            total += y_batch.size(0)\n",
        "            correct += (predicted == y_batch).sum().item()\n",
        "\n",
        "    avg_val_loss = val_loss / (len(X_val_bert) // batch_size)\n",
        "    val_acc = correct / total\n",
        "\n",
        "    train_losses.append(avg_loss)\n",
        "    train_accs.append(acc)\n",
        "    val_losses.append(avg_val_loss)\n",
        "    val_accs.append(val_acc)\n",
        "\n",
        "    # ==========================\n",
        "    # Logika Early Stopping (tanpa min_delta)\n",
        "    # ==========================\n",
        "    is_best = \"\"\n",
        "    if val_acc > best_val_acc:  # setiap kenaikan dianggap signifikan\n",
        "        best_val_acc = val_acc\n",
        "        best_model_state = model_bert.state_dict()\n",
        "        patience_counter = 0\n",
        "        is_best = \" (BEST)\"\n",
        "    else:\n",
        "        patience_counter += 1\n",
        "\n",
        "    print(f\"Epoch {epoch+1}/{epochs} | \"\n",
        "          f\"Train Loss: {avg_loss:.4f} | Train Acc: {acc:.4f} | \"\n",
        "          f\"Val Loss: {avg_val_loss:.4f} | Val Acc: {val_acc:.4f}{is_best}\")\n",
        "\n",
        "    if patience_counter >= patience:\n",
        "        print(f\"\\nEarly Stopping: Val Accuracy tidak membaik selama {patience} epoch. Menghentikan pelatihan.\")\n",
        "        break\n",
        "\n",
        "# ==========================\n",
        "# Muat Model Terbaik\n",
        "# ==========================\n",
        "if best_model_state is not None:\n",
        "    model_bert.load_state_dict(best_model_state)\n",
        "    print(\"\\nBobot model terbaik (berdasarkan Val Accuracy) telah dimuat untuk evaluasi.\")\n",
        "    print(f\"Best Validation Accuracy: {best_val_acc:.4f}\")\n",
        "\n"
      ]
    },
    {
      "cell_type": "code",
      "execution_count": null,
      "metadata": {
        "colab": {
          "base_uri": "https://localhost:8080/",
          "height": 487
        },
        "id": "GGNKDQhAtbJI",
        "outputId": "3408240f-ea7d-4547-aa4f-626e59970951"
      },
      "outputs": [
        {
          "output_type": "display_data",
          "data": {
            "text/plain": [
              "<Figure size 1200x500 with 2 Axes>"
            ],
            "image/png": "[encoded data removed]"
          },
          "metadata": {}
        }
      ],
      "source": [
        "plt.figure(figsize=(12,5))\n",
        "\n",
        "# Loss\n",
        "plt.subplot(1,2,1)\n",
        "plt.plot(train_losses, label=\"Train Loss\")\n",
        "plt.plot(val_losses, label=\"Val Loss\")\n",
        "plt.xlabel(\"Epoch\")\n",
        "plt.ylabel(\"Loss\")\n",
        "plt.title(\"Loss per Epoch\")\n",
        "plt.legend()\n",
        "\n",
        "# Accuracy\n",
        "plt.subplot(1,2,2)\n",
        "plt.plot(train_accs, label=\"Train Acc\")\n",
        "plt.plot(val_accs, label=\"Val Acc\")\n",
        "plt.xlabel(\"Epoch\")\n",
        "plt.ylabel(\"Accuracy\")\n",
        "plt.title(\"Accuracy per Epoch\")\n",
        "plt.legend()\n",
        "\n",
        "plt.show()"
      ]
    },
    {
      "cell_type": "code",
      "execution_count": null,
      "metadata": {
        "colab": {
          "base_uri": "https://localhost:8080/"
        },
        "id": "9C2koYBTuIn2",
        "outputId": "564fbe5e-17ea-4ab3-841b-13449c5d7b3c"
      },
      "outputs": [
        {
          "output_type": "stream",
          "name": "stdout",
          "text": [
            "Classification Report:\n",
            "              precision    recall  f1-score   support\n",
            "\n",
            "     negatif       0.80      0.87      0.84       117\n",
            "     positif       0.84      0.76      0.80       104\n",
            "\n",
            "    accuracy                           0.82       221\n",
            "   macro avg       0.82      0.82      0.82       221\n",
            "weighted avg       0.82      0.82      0.82       221\n",
            "\n"
          ]
        }
      ],
      "source": [
        "#Fix\n",
        "model_bert.eval()\n",
        "all_preds = []\n",
        "with torch.no_grad():\n",
        "    for i in range(0, len(X_test_bert), batch_size):\n",
        "        x_batch = X_test_bert[i:i+batch_size].to(device)\n",
        "        outputs = model_bert(x_batch)\n",
        "        preds = torch.argmax(outputs, dim=1)\n",
        "        all_preds.extend(preds.cpu().numpy())\n",
        "\n",
        "print(\"Classification Report:\")\n",
        "\n",
        "# gunakan label encoder biar konsisten\n",
        "labels = range(len(le.classes_))       # misalnya [0,1,2]\n",
        "target_names = le.classes_             # misalnya ['negatif','netral','positif']\n",
        "\n",
        "print(classification_report(\n",
        "    y_test_bert.numpy(),\n",
        "    all_preds,\n",
        "    labels=labels,\n",
        "    target_names=target_names,\n",
        "    zero_division=0\n",
        "))\n"
      ]
    },
    {
      "cell_type": "code",
      "execution_count": null,
      "metadata": {
        "colab": {
          "base_uri": "https://localhost:8080/",
          "height": 485
        },
        "id": "5aM3BdlFuIqq",
        "outputId": "e03f29d2-9615-4ce0-deb8-55279625f4c5"
      },
      "outputs": [
        {
          "output_type": "display_data",
          "data": {
            "text/plain": [
              "<Figure size 640x480 with 2 Axes>"
            ],
            "image/png": "[encoded data removed]"
          },
          "metadata": {}
        }
      ],
      "source": [
        "labels = le.classes_   # ['negatif', 'netral', 'positif'] misalnya\n",
        "y_true = y_test_bert.numpy()\n",
        "\n",
        "conf_matrix = confusion_matrix(y_true, all_preds, labels=range(len(labels)))\n",
        "disp = ConfusionMatrixDisplay(confusion_matrix=conf_matrix, display_labels=labels)\n",
        "\n",
        "disp.plot(cmap=\"Blues\", xticks_rotation=\"vertical\")\n",
        "plt.show()"
      ]
    },
    {
      "cell_type": "code",
      "execution_count": null,
      "metadata": {
        "id": "W6ce74dIXOXO"
      },
      "outputs": [],
      "source": [
        "print(classification_report(\n",
        "    y_test_bert.numpy(),\n",
        "    all_preds,\n",
        "    labels=labels,\n",
        "    target_names=target_names,\n",
        "    zero_division=0,\n",
        "    digits=4    # <-- atur jumlah angka di belakang koma\n",
        "))\n"
      ]
    },
    {
      "cell_type": "code",
      "execution_count": null,
      "metadata": {
        "id": "F1YDU3laXOZ1",
        "colab": {
          "base_uri": "https://localhost:8080/"
        },
        "outputId": "94b88285-745b-4ca9-d8db-79daaeb53846"
      },
      "outputs": [
        {
          "output_type": "stream",
          "name": "stdout",
          "text": [
            "Classification Report:\n",
            "              precision    recall  f1-score   support\n",
            "\n",
            "     negatif     0.8031    0.8718    0.8361       117\n",
            "     positif     0.8404    0.7596    0.7980       104\n",
            "\n",
            "    accuracy                         0.8190       221\n",
            "   macro avg     0.8218    0.8157    0.8170       221\n",
            "weighted avg     0.8207    0.8190    0.8181       221\n",
            "\n"
          ]
        }
      ],
      "source": [
        "#Fix\n",
        "model_bert.eval()\n",
        "all_preds = []\n",
        "with torch.no_grad():\n",
        "    for i in range(0, len(X_test_bert), batch_size):\n",
        "        x_batch = X_test_bert[i:i+batch_size].to(device)\n",
        "        outputs = model_bert(x_batch)\n",
        "        preds = torch.argmax(outputs, dim=1)\n",
        "        all_preds.extend(preds.cpu().numpy())\n",
        "\n",
        "print(\"Classification Report:\")\n",
        "\n",
        "# gunakan label encoder biar konsisten\n",
        "labels = range(len(le.classes_))       # misalnya [0,1,2]\n",
        "target_names = le.classes_             # misalnya ['negatif','netral','positif']\n",
        "\n",
        "print(classification_report(\n",
        "    y_test_bert.numpy(),\n",
        "    all_preds,\n",
        "    labels=labels,\n",
        "    target_names=target_names,\n",
        "    zero_division=0,\n",
        "    digits=4    # <-- atur jumlah angka di belakang koma\n",
        "))\n"
      ]
    },
    {
      "cell_type": "code",
      "source": [],
      "metadata": {
        "id": "Phy7kICu4l51"
      },
      "execution_count": null,
      "outputs": []
    }
  ],
  "metadata": {
    "accelerator": "GPU",
    "colab": {
      "collapsed_sections": [
        "D19D5JxbvkT1"
      ],
      "gpuType": "T4",
      "provenance": []
    },
    "kernelspec": {
      "display_name": "Python 3",
      "name": "python3"
    },
    "language_info": {
      "name": "python"
    }
  },
  "nbformat": 4,
  "nbformat_minor": 0
}